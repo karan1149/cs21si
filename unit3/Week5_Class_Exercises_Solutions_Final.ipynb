{
  "nbformat": 4,
  "nbformat_minor": 0,
  "metadata": {
    "colab": {
      "name": "Week5_Class_Exercises_Solutions.ipynb",
      "version": "0.3.2",
      "provenance": [],
      "collapsed_sections": []
    },
    "language_info": {
      "codemirror_mode": {
        "name": "ipython",
        "version": 3
      },
      "file_extension": ".py",
      "mimetype": "text/x-python",
      "name": "python",
      "nbconvert_exporter": "python",
      "pygments_lexer": "ipython3",
      "version": "3.5.2"
    },
    "kernelspec": {
      "display_name": "Python [default]",
      "language": "python",
      "name": "python3"
    }
  },
  "cells": [
    {
      "cell_type": "markdown",
      "metadata": {
        "id": "Iwim91a7hs3Y",
        "colab_type": "text"
      },
      "source": [
        "# Week 5 Exercises: COMPAS\n",
        "\n",
        "Today, we'll be exploring deep neural networks and applying them to data related to the COMPAS algorithm. I got this data [here](https://github.com/propublica/compas-analysis), in case you're interested in exploring it on your own!"
      ]
    },
    {
      "cell_type": "markdown",
      "metadata": {
        "id": "KMOKWAjMhs3Z",
        "colab_type": "text"
      },
      "source": [
        "## Setting up the Environment\n",
        "\n",
        "Run any code below by highlighting it and hitting `Shift + Enter`. Import the libraries below."
      ]
    },
    {
      "cell_type": "code",
      "metadata": {
        "id": "xVVtEpUxhs3a",
        "colab_type": "code",
        "outputId": "aed2bd30-1e5d-4215-eca8-2e37dd21684b",
        "colab": {
          "base_uri": "https://localhost:8080/",
          "height": 34
        }
      },
      "source": [
        "from __future__ import print_function\n",
        "import keras\n",
        "from keras.datasets import mnist\n",
        "from keras.models import Sequential\n",
        "from keras.layers import Dense, Dropout, Activation, BatchNormalization\n",
        "from keras import regularizers\n",
        "from keras import backend as K\n",
        "import numpy as np\n",
        "import pandas as pd\n",
        "import math\n",
        "import matplotlib.pyplot as plt\n",
        "import random\n",
        "import requests\n",
        "import zipfile\n",
        "import io\n",
        "\n",
        "# Fix random seed for reproducibility.\n",
        "np.random.seed(1337)"
      ],
      "execution_count": 0,
      "outputs": [
        {
          "output_type": "stream",
          "text": [
            "Using TensorFlow backend.\n"
          ],
          "name": "stderr"
        }
      ]
    },
    {
      "cell_type": "markdown",
      "metadata": {
        "id": "Xn944nQghs3f",
        "colab_type": "text"
      },
      "source": [
        "## Read in Data\n",
        "\n",
        "Run the below code to load the data and select the columns we care about."
      ]
    },
    {
      "cell_type": "code",
      "metadata": {
        "scrolled": false,
        "id": "YfiR8vPmhs3g",
        "colab_type": "code",
        "outputId": "4f3d39e3-aac4-4ce9-c33b-b43e3d05bde4",
        "colab": {
          "base_uri": "https://localhost:8080/",
          "height": 204
        }
      },
      "source": [
        "# Download and extract data.\n",
        "r = requests.get(\"http://web.stanford.edu/class/cs21si/resources/unit3_resources.zip\")\n",
        "z = zipfile.ZipFile(io.BytesIO(r.content))\n",
        "z.extractall()\n",
        "\n",
        "data = pd.read_csv(\"unit3_resources/compas-scores.csv\", header = 0)\n",
        "\n",
        "# Select fields we want.\n",
        "fields_of_interest = ['name', 'sex', 'age', 'race', 'priors_count', 'c_charge_desc', \n",
        "                      'v_decile_score', 'decile_score', 'is_violent_recid', 'is_recid']\n",
        "data = data[fields_of_interest]\n",
        "\n",
        "# More interpretable column names.\n",
        "data.columns = ['name', 'sex', 'age', 'race', 'num_priors', 'charge', \n",
        "                'violence_score', 'recidivism_score', 'violence_true', 'recidivism_true']\n",
        "\n",
        "# Remove records with missing scores.\n",
        "data = data.loc[(data.violence_score != -1) & (data.recidivism_score != -1)]\n",
        "data = data.loc[(data.violence_true != -1) & (data.recidivism_true != -1)]\n",
        "data.head()"
      ],
      "execution_count": 0,
      "outputs": [
        {
          "output_type": "execute_result",
          "data": {
            "text/html": [
              "<div>\n",
              "<style scoped>\n",
              "    .dataframe tbody tr th:only-of-type {\n",
              "        vertical-align: middle;\n",
              "    }\n",
              "\n",
              "    .dataframe tbody tr th {\n",
              "        vertical-align: top;\n",
              "    }\n",
              "\n",
              "    .dataframe thead th {\n",
              "        text-align: right;\n",
              "    }\n",
              "</style>\n",
              "<table border=\"1\" class=\"dataframe\">\n",
              "  <thead>\n",
              "    <tr style=\"text-align: right;\">\n",
              "      <th></th>\n",
              "      <th>name</th>\n",
              "      <th>sex</th>\n",
              "      <th>age</th>\n",
              "      <th>race</th>\n",
              "      <th>num_priors</th>\n",
              "      <th>charge</th>\n",
              "      <th>violence_score</th>\n",
              "      <th>recidivism_score</th>\n",
              "      <th>violence_true</th>\n",
              "      <th>recidivism_true</th>\n",
              "    </tr>\n",
              "  </thead>\n",
              "  <tbody>\n",
              "    <tr>\n",
              "      <th>0</th>\n",
              "      <td>miguel hernandez</td>\n",
              "      <td>Male</td>\n",
              "      <td>69</td>\n",
              "      <td>Other</td>\n",
              "      <td>0</td>\n",
              "      <td>Aggravated Assault w/Firearm</td>\n",
              "      <td>1</td>\n",
              "      <td>1</td>\n",
              "      <td>0</td>\n",
              "      <td>0</td>\n",
              "    </tr>\n",
              "    <tr>\n",
              "      <th>2</th>\n",
              "      <td>kevon dixon</td>\n",
              "      <td>Male</td>\n",
              "      <td>34</td>\n",
              "      <td>African-American</td>\n",
              "      <td>0</td>\n",
              "      <td>Felony Battery w/Prior Convict</td>\n",
              "      <td>1</td>\n",
              "      <td>3</td>\n",
              "      <td>1</td>\n",
              "      <td>1</td>\n",
              "    </tr>\n",
              "    <tr>\n",
              "      <th>3</th>\n",
              "      <td>ed philo</td>\n",
              "      <td>Male</td>\n",
              "      <td>24</td>\n",
              "      <td>African-American</td>\n",
              "      <td>4</td>\n",
              "      <td>Possession of Cocaine</td>\n",
              "      <td>3</td>\n",
              "      <td>4</td>\n",
              "      <td>0</td>\n",
              "      <td>1</td>\n",
              "    </tr>\n",
              "    <tr>\n",
              "      <th>4</th>\n",
              "      <td>marcu brown</td>\n",
              "      <td>Male</td>\n",
              "      <td>23</td>\n",
              "      <td>African-American</td>\n",
              "      <td>1</td>\n",
              "      <td>Possession of Cannabis</td>\n",
              "      <td>6</td>\n",
              "      <td>8</td>\n",
              "      <td>0</td>\n",
              "      <td>0</td>\n",
              "    </tr>\n",
              "    <tr>\n",
              "      <th>5</th>\n",
              "      <td>bouthy pierrelouis</td>\n",
              "      <td>Male</td>\n",
              "      <td>43</td>\n",
              "      <td>Other</td>\n",
              "      <td>2</td>\n",
              "      <td>arrest case no charge</td>\n",
              "      <td>1</td>\n",
              "      <td>1</td>\n",
              "      <td>0</td>\n",
              "      <td>0</td>\n",
              "    </tr>\n",
              "  </tbody>\n",
              "</table>\n",
              "</div>"
            ],
            "text/plain": [
              "                 name   sex  age              race  num_priors  \\\n",
              "0    miguel hernandez  Male   69             Other           0   \n",
              "2         kevon dixon  Male   34  African-American           0   \n",
              "3            ed philo  Male   24  African-American           4   \n",
              "4         marcu brown  Male   23  African-American           1   \n",
              "5  bouthy pierrelouis  Male   43             Other           2   \n",
              "\n",
              "                           charge  violence_score  recidivism_score  \\\n",
              "0    Aggravated Assault w/Firearm               1                 1   \n",
              "2  Felony Battery w/Prior Convict               1                 3   \n",
              "3           Possession of Cocaine               3                 4   \n",
              "4          Possession of Cannabis               6                 8   \n",
              "5           arrest case no charge               1                 1   \n",
              "\n",
              "   violence_true  recidivism_true  \n",
              "0              0                0  \n",
              "2              1                1  \n",
              "3              0                1  \n",
              "4              0                0  \n",
              "5              0                0  "
            ]
          },
          "metadata": {
            "tags": []
          },
          "execution_count": 2
        }
      ]
    },
    {
      "cell_type": "markdown",
      "metadata": {
        "id": "KX0FJEOmhs3i",
        "colab_type": "text"
      },
      "source": [
        "Understanding the columns: *num_priors* refers to the number of prior offenses, *violence_score* and *recividism_score* refer to scores predicted by the COMPAS algorithm, and *violence_true* and *recividism_true* refer to the groundtruth (i.e., did this person commit another crime).\n",
        "\n",
        "## Part 1: Visualize the Data\n",
        "\n",
        "With the increasing availability of rich data sets encoding several features, it's difficult to extract useful knowledge just by looking at the numbers. This is where data visualizations come in. "
      ]
    },
    {
      "cell_type": "code",
      "metadata": {
        "id": "2RNXrDqWhs3i",
        "colab_type": "code",
        "colab": {}
      },
      "source": [
        "# races of interest\n",
        "races = ['African-American', 'Caucasian', 'Hispanic']\n",
        "colors = ['magenta', 'yellow', 'cyan']\n",
        "\n",
        "#########################################################\n",
        "# Counts number of people per race. Plots as bar graph.\n",
        "#########################################################\n",
        "def plot_racial_distrib():\n",
        "    race_indices = [1,2,3]\n",
        "    race_population = [(data.loc[data['race'] == race].shape[0]) for race in races]\n",
        "\n",
        "    plt.bar(race_indices, race_population, align='center', color = colors)\n",
        "    plt.xticks(race_indices, races)\n",
        "    plt.title('Racial Distribution of COMPAS Defendants')\n",
        "    plt.rcParams[\"figure.figsize\"] = [15, 5]\n",
        "    plt.show()\n",
        "\n",
        "#########################################################\n",
        "# Plots input feature by race as bar graph.\n",
        "#########################################################\n",
        "def plot_feature_by_race(feature, normalized = True):\n",
        "    # bar chart parameters\n",
        "    width = 0.25\n",
        "    groups = sorted(data[feature].unique(), key=int)\n",
        "    deciles = np.arange(1, len(groups) + 1) # for each of the 10 scores\n",
        "    \n",
        "    if normalized:\n",
        "        race_population = [(data.loc[data['race'] == race].shape[0]) for race in races]\n",
        "    else:\n",
        "        race_population = [1 for race in races]\n",
        "    \n",
        "    race_bars = []\n",
        "    for i in range(len(races)):\n",
        "        race_data = data.loc[data['race'] == races[i]]\n",
        "        bar = plt.bar(deciles + (i-1)*width, race_data[feature].value_counts()/race_population[i], \n",
        "                      width, color = colors[i])\n",
        "        race_bars.append(bar)\n",
        "\n",
        "    plt.title('COMPAS ' + feature + ' by Race')\n",
        "    plt.xticks(deciles + width / 2, groups)\n",
        "    plt.legend(tuple(bar for bar in race_bars), tuple(races))\n",
        "    plt.rcParams[\"figure.figsize\"] = [15, 5]\n",
        "\n",
        "    plt.show()\n",
        "    plt.clf()"
      ],
      "execution_count": 0,
      "outputs": []
    },
    {
      "cell_type": "markdown",
      "metadata": {
        "id": "_ZBiv32_hs3k",
        "colab_type": "text"
      },
      "source": [
        "**Your task:** Using the functions defined above, plot the racial distribution of defendants in our database. Also plot the violence and recidivism COMPAS scores by race to produce three total plots. You should see that African-Americans are disproportionately assigned higher recidivism and violence scores, compared to Caucasians and Hispanics."
      ]
    },
    {
      "cell_type": "code",
      "metadata": {
        "id": "I3vc2a1fhs3l",
        "colab_type": "code",
        "outputId": "9cdeac60-6f8d-4e20-9978-942eae7ed9fb",
        "colab": {
          "base_uri": "https://localhost:8080/",
          "height": 936
        }
      },
      "source": [
        "# YOUR CODE HERE:\n",
        "plot_racial_distrib()\n",
        "plot_feature_by_race('recidivism_score')\n",
        "plot_feature_by_race('violence_score')\n",
        "# END CODE"
      ],
      "execution_count": 0,
      "outputs": [
        {
          "output_type": "display_data",
          "data": {
            "image/png": "[encoded data removed]",
            "text/plain": [
              "<Figure size 432x288 with 1 Axes>"
            ]
          },
          "metadata": {
            "tags": []
          }
        },
        {
          "output_type": "display_data",
          "data": {
            "image/png": "[encoded data removed]",
            "text/plain": [
              "<Figure size 1080x360 with 1 Axes>"
            ]
          },
          "metadata": {
            "tags": []
          }
        },
        {
          "output_type": "display_data",
          "data": {
            "image/png": "[encoded data removed]",
            "text/plain": [
              "<Figure size 1080x360 with 1 Axes>"
            ]
          },
          "metadata": {
            "tags": []
          }
        },
        {
          "output_type": "display_data",
          "data": {
            "text/plain": [
              "<Figure size 1080x360 with 0 Axes>"
            ]
          },
          "metadata": {
            "tags": []
          }
        }
      ]
    },
    {
      "cell_type": "markdown",
      "metadata": {
        "id": "FKWB66f9hs3p",
        "colab_type": "text"
      },
      "source": [
        "## Clean up the Data a Little More\n",
        "\n",
        "Just like in week 3, we want to convert our data from a human-readable format to a format more amenable for a neural network. We need to convert text in our data into meaningful numbers. For instance, below we map \"Male\" to 0 and \"Female\" to 1. Note that for `race`, we want to use a one-hot encoding again, just as in week 3."
      ]
    },
    {
      "cell_type": "code",
      "metadata": {
        "id": "wQbv0Ot5hs3q",
        "colab_type": "code",
        "outputId": "6a766ee0-aaf4-4c3b-ef53-5abc83d56d7b",
        "colab": {
          "base_uri": "https://localhost:8080/",
          "height": 306
        }
      },
      "source": [
        "# Convert strings to numerical values.\n",
        "sex_classes = {'Male': 0, 'Female' : 1}\n",
        "\n",
        "processed_data = data.copy()\n",
        "processed_data['sex'] = data['sex'].apply(lambda x: sex_classes[x])\n",
        "\n",
        "# One-hot encode race.\n",
        "processed_data = pd.get_dummies(processed_data, columns = ['race'])\n",
        "columns = processed_data.columns.tolist()\n",
        "columns = columns[0:3] + columns[9:] + columns[3:9]\n",
        "processed_data = processed_data.reindex(columns = columns)\n",
        "\n",
        "processed_data.head()"
      ],
      "execution_count": 0,
      "outputs": [
        {
          "output_type": "execute_result",
          "data": {
            "text/html": [
              "<div>\n",
              "<style scoped>\n",
              "    .dataframe tbody tr th:only-of-type {\n",
              "        vertical-align: middle;\n",
              "    }\n",
              "\n",
              "    .dataframe tbody tr th {\n",
              "        vertical-align: top;\n",
              "    }\n",
              "\n",
              "    .dataframe thead th {\n",
              "        text-align: right;\n",
              "    }\n",
              "</style>\n",
              "<table border=\"1\" class=\"dataframe\">\n",
              "  <thead>\n",
              "    <tr style=\"text-align: right;\">\n",
              "      <th></th>\n",
              "      <th>name</th>\n",
              "      <th>sex</th>\n",
              "      <th>age</th>\n",
              "      <th>race_African-American</th>\n",
              "      <th>race_Asian</th>\n",
              "      <th>race_Caucasian</th>\n",
              "      <th>race_Hispanic</th>\n",
              "      <th>race_Native American</th>\n",
              "      <th>race_Other</th>\n",
              "      <th>num_priors</th>\n",
              "      <th>charge</th>\n",
              "      <th>violence_score</th>\n",
              "      <th>recidivism_score</th>\n",
              "      <th>violence_true</th>\n",
              "      <th>recidivism_true</th>\n",
              "    </tr>\n",
              "  </thead>\n",
              "  <tbody>\n",
              "    <tr>\n",
              "      <th>0</th>\n",
              "      <td>miguel hernandez</td>\n",
              "      <td>0</td>\n",
              "      <td>69</td>\n",
              "      <td>0</td>\n",
              "      <td>0</td>\n",
              "      <td>0</td>\n",
              "      <td>0</td>\n",
              "      <td>0</td>\n",
              "      <td>1</td>\n",
              "      <td>0</td>\n",
              "      <td>Aggravated Assault w/Firearm</td>\n",
              "      <td>1</td>\n",
              "      <td>1</td>\n",
              "      <td>0</td>\n",
              "      <td>0</td>\n",
              "    </tr>\n",
              "    <tr>\n",
              "      <th>2</th>\n",
              "      <td>kevon dixon</td>\n",
              "      <td>0</td>\n",
              "      <td>34</td>\n",
              "      <td>1</td>\n",
              "      <td>0</td>\n",
              "      <td>0</td>\n",
              "      <td>0</td>\n",
              "      <td>0</td>\n",
              "      <td>0</td>\n",
              "      <td>0</td>\n",
              "      <td>Felony Battery w/Prior Convict</td>\n",
              "      <td>1</td>\n",
              "      <td>3</td>\n",
              "      <td>1</td>\n",
              "      <td>1</td>\n",
              "    </tr>\n",
              "    <tr>\n",
              "      <th>3</th>\n",
              "      <td>ed philo</td>\n",
              "      <td>0</td>\n",
              "      <td>24</td>\n",
              "      <td>1</td>\n",
              "      <td>0</td>\n",
              "      <td>0</td>\n",
              "      <td>0</td>\n",
              "      <td>0</td>\n",
              "      <td>0</td>\n",
              "      <td>4</td>\n",
              "      <td>Possession of Cocaine</td>\n",
              "      <td>3</td>\n",
              "      <td>4</td>\n",
              "      <td>0</td>\n",
              "      <td>1</td>\n",
              "    </tr>\n",
              "    <tr>\n",
              "      <th>4</th>\n",
              "      <td>marcu brown</td>\n",
              "      <td>0</td>\n",
              "      <td>23</td>\n",
              "      <td>1</td>\n",
              "      <td>0</td>\n",
              "      <td>0</td>\n",
              "      <td>0</td>\n",
              "      <td>0</td>\n",
              "      <td>0</td>\n",
              "      <td>1</td>\n",
              "      <td>Possession of Cannabis</td>\n",
              "      <td>6</td>\n",
              "      <td>8</td>\n",
              "      <td>0</td>\n",
              "      <td>0</td>\n",
              "    </tr>\n",
              "    <tr>\n",
              "      <th>5</th>\n",
              "      <td>bouthy pierrelouis</td>\n",
              "      <td>0</td>\n",
              "      <td>43</td>\n",
              "      <td>0</td>\n",
              "      <td>0</td>\n",
              "      <td>0</td>\n",
              "      <td>0</td>\n",
              "      <td>0</td>\n",
              "      <td>1</td>\n",
              "      <td>2</td>\n",
              "      <td>arrest case no charge</td>\n",
              "      <td>1</td>\n",
              "      <td>1</td>\n",
              "      <td>0</td>\n",
              "      <td>0</td>\n",
              "    </tr>\n",
              "  </tbody>\n",
              "</table>\n",
              "</div>"
            ],
            "text/plain": [
              "                 name  sex  age  race_African-American  race_Asian  \\\n",
              "0    miguel hernandez    0   69                      0           0   \n",
              "2         kevon dixon    0   34                      1           0   \n",
              "3            ed philo    0   24                      1           0   \n",
              "4         marcu brown    0   23                      1           0   \n",
              "5  bouthy pierrelouis    0   43                      0           0   \n",
              "\n",
              "   race_Caucasian  race_Hispanic  race_Native American  race_Other  \\\n",
              "0               0              0                     0           1   \n",
              "2               0              0                     0           0   \n",
              "3               0              0                     0           0   \n",
              "4               0              0                     0           0   \n",
              "5               0              0                     0           1   \n",
              "\n",
              "   num_priors                          charge  violence_score  \\\n",
              "0           0    Aggravated Assault w/Firearm               1   \n",
              "2           0  Felony Battery w/Prior Convict               1   \n",
              "3           4           Possession of Cocaine               3   \n",
              "4           1          Possession of Cannabis               6   \n",
              "5           2           arrest case no charge               1   \n",
              "\n",
              "   recidivism_score  violence_true  recidivism_true  \n",
              "0                 1              0                0  \n",
              "2                 3              1                1  \n",
              "3                 4              0                1  \n",
              "4                 8              0                0  \n",
              "5                 1              0                0  "
            ]
          },
          "metadata": {
            "tags": []
          },
          "execution_count": 7
        }
      ]
    },
    {
      "cell_type": "code",
      "metadata": {
        "id": "Q5Nv4Qfmc3PX",
        "colab_type": "code",
        "colab": {}
      },
      "source": [
        "# Convert Pandas dataframe to NumPy array for easier processing.\n",
        "processed_data = processed_data.values"
      ],
      "execution_count": 0,
      "outputs": []
    },
    {
      "cell_type": "markdown",
      "metadata": {
        "id": "-oN9r98dhs3s",
        "colab_type": "text"
      },
      "source": [
        "## Part 2: Partition into Train and Test Sets\n",
        "\n",
        "We will focus on predicting recidivism scores from defendant data and recidivism ground truth. This is now a binary classification problem where our inputs are sex, age, race, and number of prior convictions. Our output is 1 (high risk of recidivism) or 0 (low risk of recidivism). The entire dataset has already been split into inputs (X) and outputs (y). \n"
      ]
    },
    {
      "cell_type": "code",
      "metadata": {
        "id": "0mTabcx4hs3t",
        "colab_type": "code",
        "colab": {}
      },
      "source": [
        "# Split into input (X) and output (y) variables.\n",
        "X = processed_data[:,1:10] # sex, age, race, num_priors\n",
        "y = processed_data[:,14] # recidivism_true\n",
        "\n",
        "num_train = int(math.ceil(X.shape[0]*0.8))"
      ],
      "execution_count": 0,
      "outputs": []
    },
    {
      "cell_type": "markdown",
      "metadata": {
        "id": "9AmIfELB718G",
        "colab_type": "text"
      },
      "source": [
        "**Your task:** Partition the dataset into two sets: train (80%) and test (20%). The validation split will happen later automatically (using Keras). Assume the records have already been shuffled."
      ]
    },
    {
      "cell_type": "code",
      "metadata": {
        "id": "x7n1uIWkhs3v",
        "colab_type": "code",
        "outputId": "146a37d5-3cf5-4802-e69f-cdc6aac277a7",
        "colab": {
          "base_uri": "https://localhost:8080/",
          "height": 68
        }
      },
      "source": [
        "# YOUR CODE HERE:\n",
        "X_train = X[:num_train]\n",
        "y_train = y[:num_train]\n",
        "\n",
        "X_test = X[num_train:]\n",
        "y_test = y[num_train:]\n",
        "# END CODE\n",
        "\n",
        "num_classes = 2\n",
        "# Convert output classes to one-hot encodings. As a result,\n",
        "# we use softmax instead of sigmoid later.\n",
        "y_train = keras.utils.to_categorical(y_train, num_classes)\n",
        "y_test = keras.utils.to_categorical(y_test, num_classes)\n",
        "\n",
        "print(X_train.shape[0], 'records in train set')\n",
        "print(X_test.shape[0], 'records in test set')\n",
        "print(X.shape[0], 'records in total')"
      ],
      "execution_count": 0,
      "outputs": [
        {
          "output_type": "stream",
          "text": [
            "8822 records in train set\n",
            "2205 records in test set\n",
            "11027 records in total\n"
          ],
          "name": "stdout"
        }
      ]
    },
    {
      "cell_type": "markdown",
      "metadata": {
        "id": "9BPoZuVqhs3x",
        "colab_type": "text"
      },
      "source": [
        "## Part 3: Create a Baseline Model\n",
        "\n",
        "**Your task:** At this point, we're ready to create a basic neural network classifier using Keras. Check this [guide](https://keras.io/getting-started/sequential-model-guide/) out to get started with Keras. Your model should have 4 Dense (fully-connected) layers, of sizes 50, 100, 50, and `num_classes`. All layers, save the last one, should use a ReLU activation function. The last layer should use softmax (why not sigmoid, since this is binary classification?). Make sure you pass in the *input_dim* parameter for the first layer, to tell Keras what size the input vectors are."
      ]
    },
    {
      "cell_type": "code",
      "metadata": {
        "id": "YQqkuj1whs3z",
        "colab_type": "code",
        "outputId": "53341911-4c32-42fc-b9dc-0422738b1e4b",
        "colab": {
          "base_uri": "https://localhost:8080/",
          "height": 88
        }
      },
      "source": [
        "batch_size = 64\n",
        "epochs = 25\n",
        "learning_rate = 1e-5\n",
        "\n",
        "#########################################################\n",
        "# Initializes baseline neural network with 4 layers.\n",
        "# ReLU and Softmax activations. Cross-entropy loss.\n",
        "#########################################################\n",
        "def baseline_classifier(learning_rate):\n",
        "    # Create sequential model.\n",
        "    model_baseline = Sequential()\n",
        "\n",
        "    # YOUR CODE HERE:\n",
        "    model_baseline.add(Dense(50, input_dim = X.shape[1], activation = 'relu')) \n",
        "    model_baseline.add(Dense(100, activation = 'relu')) \n",
        "    model_baseline.add(Dense(50, activation = 'relu')) \n",
        "    model_baseline.add(Dense(num_classes, activation = 'softmax'))\n",
        "    # END CODE\n",
        "\n",
        "    # Compile model.\n",
        "    sgd = keras.optimizers.SGD(lr = learning_rate)\n",
        "    model_baseline.compile(loss = keras.losses.categorical_crossentropy, \n",
        "                  optimizer = sgd, metrics=['accuracy'])\n",
        "    \n",
        "    return model_baseline\n",
        "\n",
        "model_baseline = baseline_classifier(learning_rate)"
      ],
      "execution_count": 0,
      "outputs": [
        {
          "output_type": "stream",
          "text": [
            "WARNING:tensorflow:From /usr/local/lib/python3.6/dist-packages/tensorflow/python/framework/op_def_library.py:263: colocate_with (from tensorflow.python.framework.ops) is deprecated and will be removed in a future version.\n",
            "Instructions for updating:\n",
            "Colocations handled automatically by placer.\n"
          ],
          "name": "stdout"
        }
      ]
    },
    {
      "cell_type": "markdown",
      "metadata": {
        "id": "sMJ69xm_hs32",
        "colab_type": "text"
      },
      "source": [
        "## Part 4: Train and Evaluate the Baseline Model\n",
        "\n",
        "**Your task:** Use the `eval()` function below to train and evaluate our baseline model. The return value of `eval()` is a tuple of loss and accuracy. Print both of these. In `eval()`, feel free to change the value of the `verbose` parameter. When `verbose = 0`, no information is printed. When it's 5, a lot of detailed information about the training process gets printed. Your test accuracy for this basic model should be around 69%.\n",
        "\n",
        "Note that a parameter is `model.fit()` is `validation_split`. This takes a float from 0 to 1, representing the percentage of the training set to use for validation. Why do we need a validation set? More than training performance, we are interested in how our model does on unseen data. We can split data into only training and test. But if we then optimize our model using results from the test set, our test set can no longer be considered unseen data. As a workaround, we split our dataset into train, validation, and test. This way, we can optimize on our validation set, and only touch our test set at the very end."
      ]
    },
    {
      "cell_type": "code",
      "metadata": {
        "scrolled": true,
        "id": "e7-orFaEhs32",
        "colab_type": "code",
        "outputId": "d4305d67-060c-4443-c5f1-6834c623b070",
        "colab": {
          "base_uri": "https://localhost:8080/",
          "height": 1020
        }
      },
      "source": [
        "#########################################################\n",
        "# Trains and evaluates given model. Returns loss and \n",
        "# accuracy.\n",
        "#########################################################\n",
        "def eval(model, verb = 2):\n",
        "    # Fit the model.\n",
        "    model.fit(X_train, y_train, \n",
        "              epochs = epochs, \n",
        "              batch_size = batch_size,          \n",
        "              validation_split = 0.1,\n",
        "              verbose = verb,\n",
        "              shuffle = False)\n",
        "    \n",
        "    # Evaluate the model.\n",
        "    scores = model.evaluate(X_test, y_test)\n",
        "    \n",
        "    return scores\n",
        "\n",
        "# YOUR CODE HERE:\n",
        "loss, acc = eval(model_baseline)\n",
        "print('\\n\\nTest loss:', loss)\n",
        "print('Test accuracy:', acc)\n",
        "# END CODE"
      ],
      "execution_count": 0,
      "outputs": [
        {
          "output_type": "stream",
          "text": [
            "WARNING:tensorflow:From /usr/local/lib/python3.6/dist-packages/tensorflow/python/ops/math_ops.py:3066: to_int32 (from tensorflow.python.ops.math_ops) is deprecated and will be removed in a future version.\n",
            "Instructions for updating:\n",
            "Use tf.cast instead.\n",
            "Train on 7939 samples, validate on 883 samples\n",
            "Epoch 1/25\n",
            " - 1s - loss: 1.2737 - acc: 0.3333 - val_loss: 0.9236 - val_acc: 0.2990\n",
            "Epoch 2/25\n",
            " - 0s - loss: 0.7928 - acc: 0.3411 - val_loss: 0.7131 - val_acc: 0.4983\n",
            "Epoch 3/25\n",
            " - 0s - loss: 0.6939 - acc: 0.6107 - val_loss: 0.6728 - val_acc: 0.6614\n",
            "Epoch 4/25\n",
            " - 0s - loss: 0.6736 - acc: 0.6595 - val_loss: 0.6609 - val_acc: 0.6772\n",
            "Epoch 5/25\n",
            " - 0s - loss: 0.6661 - acc: 0.6638 - val_loss: 0.6547 - val_acc: 0.6761\n",
            "Epoch 6/25\n",
            " - 0s - loss: 0.6611 - acc: 0.6639 - val_loss: 0.6500 - val_acc: 0.6761\n",
            "Epoch 7/25\n",
            " - 0s - loss: 0.6566 - acc: 0.6639 - val_loss: 0.6455 - val_acc: 0.6761\n",
            "Epoch 8/25\n",
            " - 0s - loss: 0.6520 - acc: 0.6639 - val_loss: 0.6412 - val_acc: 0.6761\n",
            "Epoch 9/25\n",
            " - 0s - loss: 0.6476 - acc: 0.6639 - val_loss: 0.6373 - val_acc: 0.6761\n",
            "Epoch 10/25\n",
            " - 0s - loss: 0.6438 - acc: 0.6639 - val_loss: 0.6342 - val_acc: 0.6761\n",
            "Epoch 11/25\n",
            " - 0s - loss: 0.6407 - acc: 0.6639 - val_loss: 0.6316 - val_acc: 0.6761\n",
            "Epoch 12/25\n",
            " - 0s - loss: 0.6381 - acc: 0.6639 - val_loss: 0.6293 - val_acc: 0.6761\n",
            "Epoch 13/25\n",
            " - 0s - loss: 0.6357 - acc: 0.6639 - val_loss: 0.6273 - val_acc: 0.6761\n",
            "Epoch 14/25\n",
            " - 0s - loss: 0.6335 - acc: 0.6639 - val_loss: 0.6254 - val_acc: 0.6761\n",
            "Epoch 15/25\n",
            " - 0s - loss: 0.6316 - acc: 0.6639 - val_loss: 0.6237 - val_acc: 0.6761\n",
            "Epoch 16/25\n",
            " - 0s - loss: 0.6299 - acc: 0.6639 - val_loss: 0.6223 - val_acc: 0.6761\n",
            "Epoch 17/25\n",
            " - 0s - loss: 0.6284 - acc: 0.6639 - val_loss: 0.6209 - val_acc: 0.6761\n",
            "Epoch 18/25\n",
            " - 0s - loss: 0.6270 - acc: 0.6639 - val_loss: 0.6197 - val_acc: 0.6761\n",
            "Epoch 19/25\n",
            " - 0s - loss: 0.6257 - acc: 0.6639 - val_loss: 0.6185 - val_acc: 0.6761\n",
            "Epoch 20/25\n",
            " - 0s - loss: 0.6245 - acc: 0.6639 - val_loss: 0.6174 - val_acc: 0.6761\n",
            "Epoch 21/25\n",
            " - 0s - loss: 0.6234 - acc: 0.6639 - val_loss: 0.6164 - val_acc: 0.6761\n",
            "Epoch 22/25\n",
            " - 0s - loss: 0.6223 - acc: 0.6639 - val_loss: 0.6154 - val_acc: 0.6761\n",
            "Epoch 23/25\n",
            " - 0s - loss: 0.6214 - acc: 0.6639 - val_loss: 0.6144 - val_acc: 0.6761\n",
            "Epoch 24/25\n",
            " - 0s - loss: 0.6205 - acc: 0.6639 - val_loss: 0.6135 - val_acc: 0.6761\n",
            "Epoch 25/25\n",
            " - 0s - loss: 0.6196 - acc: 0.6639 - val_loss: 0.6127 - val_acc: 0.6761\n",
            "2205/2205 [==============================] - 0s 20us/step\n",
            "\n",
            "\n",
            "Test loss: 0.6200507017219958\n",
            "Test accuracy: 0.661678004697337\n"
          ],
          "name": "stdout"
        }
      ]
    },
    {
      "cell_type": "markdown",
      "metadata": {
        "id": "MncrddAWhs34",
        "colab_type": "text"
      },
      "source": [
        "## Part 5: Introduce Regularization\n",
        "\n",
        "Above, you might have noticed that your train accuracies were consistently higher than your test accuracy.  Another issue is that the train losses continue to decrease while the validation losses hit a minimum then increase. Both of these things are indicators of overfitting. Right now, our model doesn't generalize as well as we want. Regularization is a way to fix this. Regularization reduces overfitting by adding a penalty to the loss function. By adding this penalty, the model is trained such that it does not learn interdependent sets of features weights.\n",
        "\n",
        "**Your task:** Add L2 regularization to each hidden layer of our model. You may want to refer to the [Keras documentation about regularizers](https://keras.io/regularizers/). You may see up to a 5% gain in test accuracy after adding in regularization."
      ]
    },
    {
      "cell_type": "code",
      "metadata": {
        "id": "Cq77HWSzhs35",
        "colab_type": "code",
        "outputId": "efc5e3c0-d9ea-47bd-8539-11ef8f67eb88",
        "colab": {
          "base_uri": "https://localhost:8080/",
          "height": 493
        }
      },
      "source": [
        "reg_strength = 5e-4\n",
        "\n",
        "#########################################################\n",
        "# Initializes neural network with L2 regularization.\n",
        "#########################################################\n",
        "def regularized_classifier(learning_rate, reg_strength):\n",
        "    # create model\n",
        "    model_regularized = Sequential()\n",
        "\n",
        "    # YOUR CODE HERE:\n",
        "    model_regularized.add(Dense(50, input_dim = X.shape[1], activation = 'relu', kernel_regularizer=regularizers.l2(reg_strength))) \n",
        "    model_regularized.add(Dense(100, activation = 'relu', kernel_regularizer=regularizers.l2(reg_strength))) \n",
        "    model_regularized.add(Dense(50, activation = 'relu', kernel_regularizer=regularizers.l2(reg_strength))) \n",
        "    model_regularized.add(Dense(num_classes, activation = 'softmax'))\n",
        "    # END CODE\n",
        "    \n",
        "    # compile model\n",
        "    sgd = keras.optimizers.SGD(lr = learning_rate)\n",
        "    model_regularized.compile(loss = keras.losses.categorical_crossentropy, \n",
        "                  optimizer = sgd, metrics=['accuracy'])\n",
        "    \n",
        "    return model_regularized\n",
        "\n",
        "for reg_strength in [1e-1, 1e-2, 1e-3, 1e-4]:\n",
        "  print()\n",
        "  print(\"Regularization strength: %f\" % reg_strength)\n",
        "  model_regularized = regularized_classifier(learning_rate, reg_strength)\n",
        "\n",
        "  loss, acc = eval(model_regularized, verb = 0)\n",
        "  print('\\n\\nTest loss:', loss)\n",
        "  print('Test accuracy:', acc)"
      ],
      "execution_count": 0,
      "outputs": [
        {
          "output_type": "stream",
          "text": [
            "\n",
            "Regularization strength: 0.100000\n",
            "2205/2205 [==============================] - 0s 19us/step\n",
            "\n",
            "\n",
            "Test loss: 15.467106279386144\n",
            "Test accuracy: 0.6770975058311237\n",
            "\n",
            "Regularization strength: 0.010000\n",
            "2205/2205 [==============================] - 0s 18us/step\n",
            "\n",
            "\n",
            "Test loss: 2.0944519358697664\n",
            "Test accuracy: 0.6616780044540527\n",
            "\n",
            "Regularization strength: 0.001000\n",
            "2205/2205 [==============================] - 0s 20us/step\n",
            "\n",
            "\n",
            "Test loss: 0.7897342773251522\n",
            "Test accuracy: 0.6612244899581079\n",
            "\n",
            "Regularization strength: 0.000100\n",
            "2205/2205 [==============================] - 0s 20us/step\n",
            "\n",
            "\n",
            "Test loss: 0.6047534788546919\n",
            "Test accuracy: 0.6897959185295365\n"
          ],
          "name": "stdout"
        }
      ]
    },
    {
      "cell_type": "markdown",
      "metadata": {
        "id": "ZGlZDQBG_7Wx",
        "colab_type": "text"
      },
      "source": [
        "## How does this compare with COMPAS?\n",
        "\n",
        "At this point, you've trained a model using defendant survey data and recidivism ground truth, and tried to improve your model with regularization. Still, you should see that from the first plot, African-Americans are predicted to be more likely to recidivate, compared to Caucasians and Hispanics after normalizing for population size. \n",
        "\n",
        "This tells us a few things. First, even with a sound machine learning pipeline, it's possible to get a biased model. Secondly, biased models are largely a result of biased data. If we look at the racial distribution of the COMPAS dataset again, we see that of recidivating defendants, African-Americans are the clear plurality. Our dataset just has more instances of recidivating African-Americans (see plot 2), which is either a result of biased selection by the creators of the dataset or racial disparities in policing in the US."
      ]
    },
    {
      "cell_type": "code",
      "metadata": {
        "id": "5h2JimJf-n9M",
        "colab_type": "code",
        "outputId": "71d7ca49-1b42-4c37-b6a6-0f2582b306e2",
        "colab": {
          "base_uri": "https://localhost:8080/",
          "height": 672
        }
      },
      "source": [
        "# Use model to make a prediction for every defendant.\n",
        "y_model = model_regularized.predict_classes(X)\n",
        "data['model_prediction'] = y_model\n",
        "\n",
        "plot_feature_by_race('model_prediction')\n",
        "plot_feature_by_race('recidivism_true')"
      ],
      "execution_count": 0,
      "outputs": [
        {
          "output_type": "display_data",
          "data": {
            "image/png": "[encoded data removed]",
            "text/plain": [
              "<Figure size 1080x360 with 1 Axes>"
            ]
          },
          "metadata": {
            "tags": []
          }
        },
        {
          "output_type": "display_data",
          "data": {
            "image/png": "[encoded data removed]",
            "text/plain": [
              "<Figure size 1080x360 with 1 Axes>"
            ]
          },
          "metadata": {
            "tags": []
          }
        },
        {
          "output_type": "display_data",
          "data": {
            "text/plain": [
              "<Figure size 1080x360 with 0 Axes>"
            ]
          },
          "metadata": {
            "tags": []
          }
        }
      ]
    },
    {
      "cell_type": "markdown",
      "metadata": {
        "id": "BGCFL_kMhs37",
        "colab_type": "text"
      },
      "source": [
        "## (Bonus) Part 6: Introduce Dropout\n",
        "\n",
        "Dropout is another regularization technique to prevent over-fitting. Dropout randomly selects neurons to ignore during training. In other words, they are “dropped-out” randomly. This means that their contribution to the activation of downstream neurons is temporally removed on the forward pass and any weight updates are not applied to the neuron on the backward pass. \n",
        "\n",
        "**Your task:** Remove the regularization, and this time around, add dropout for the input layer. You may want to refer to the [Keras documentation about the Dropout layer](https://keras.io/layers/core/). You may see up to a 5% increase in test accuracy compared to the regularization model."
      ]
    },
    {
      "cell_type": "code",
      "metadata": {
        "id": "kukz51U8hs37",
        "colab_type": "code",
        "outputId": "128d4068-5dc2-4ed6-b687-67560e7644bc",
        "colab": {
          "base_uri": "https://localhost:8080/",
          "height": 173
        }
      },
      "source": [
        "dropout_strength = 1e-2\n",
        "\n",
        "#########################################################\n",
        "# Initializes neural network with dropout.\n",
        "#########################################################\n",
        "def dropout_classifier(learning_rate, dropout_strength):\n",
        "    # create model\n",
        "    model_dropout = Sequential()\n",
        "\n",
        "    # YOUR CODE HERE:\n",
        "    model_dropout.add(Dropout(dropout_strength, input_shape = (X.shape[1],)))\n",
        "    model_dropout.add(Dense(50, activation = 'relu')) \n",
        "    model_dropout.add(Dense(100, activation = 'relu')) \n",
        "    model_dropout.add(Dense(50, activation = 'relu')) \n",
        "    model_dropout.add(Dense(num_classes, activation = 'softmax'))\n",
        "    # END CODE\n",
        "    \n",
        "    # compile model\n",
        "    sgd = keras.optimizers.SGD(lr = learning_rate)\n",
        "    model_dropout.compile(loss = keras.losses.categorical_crossentropy, \n",
        "                  optimizer = sgd, metrics=['accuracy'])\n",
        "    \n",
        "    return model_dropout\n",
        "\n",
        "model_dropout = dropout_classifier(learning_rate, dropout_strength)\n",
        "\n",
        "loss, acc = eval(model_dropout, verb = 0)\n",
        "print('\\n\\nTest loss:', loss)\n",
        "print('Test accuracy:', acc)"
      ],
      "execution_count": 0,
      "outputs": [
        {
          "output_type": "stream",
          "text": [
            "WARNING:tensorflow:From /usr/local/lib/python3.6/dist-packages/keras/backend/tensorflow_backend.py:3445: calling dropout (from tensorflow.python.ops.nn_ops) with keep_prob is deprecated and will be removed in a future version.\n",
            "Instructions for updating:\n",
            "Please use `rate` instead of `keep_prob`. Rate should be set to `rate = 1 - keep_prob`.\n",
            "2205/2205 [==============================] - 0s 20us/step\n",
            "\n",
            "\n",
            "Test loss: 0.5895479114688172\n",
            "Test accuracy: 0.6829931969004693\n"
          ],
          "name": "stdout"
        }
      ]
    },
    {
      "cell_type": "markdown",
      "metadata": {
        "id": "lxjHGXx3hs3-",
        "colab_type": "text"
      },
      "source": [
        "## (Bonus) Part 7: Introduce Batch Normalization\n",
        "\n",
        "Batch Normalization is used to help remedy “covariate shifts”, or changes in the distribution of function’s domain.\n",
        "They help keep activations in the zero-mean unit-variance range. You might use batch normalization for the same reasons that you normalized the entire dataset initially.\n",
        "\n",
        "**Your task:** For our final exercise, keep dropout. Add batch normalization after the first dense layer. You may want to refer to the [Keras documentation about the BatchNorm layer](https://keras.io/layers/normalization/). You may see up to a 5% increase in test accuracy compared to the dropout-only model."
      ]
    },
    {
      "cell_type": "code",
      "metadata": {
        "id": "oKZ24Syuhs3_",
        "colab_type": "code",
        "outputId": "438aff09-64b9-4a4f-db01-8130a3a280c0",
        "colab": {
          "base_uri": "https://localhost:8080/",
          "height": 102
        }
      },
      "source": [
        "#########################################################\n",
        "# Initializes neural network with dropout.\n",
        "#########################################################\n",
        "def batchnorm_classifier(learning_rate, dropout_strength):\n",
        "    # create model\n",
        "    model_batchnorm = Sequential()\n",
        "\n",
        "    # YOUR CODE HERE:\n",
        "    model_batchnorm.add(Dropout(dropout_strength, input_shape = (X.shape[1],)))\n",
        "    model_batchnorm.add(Dense(50, activation = 'relu')) \n",
        "    model_batchnorm.add(BatchNormalization())\n",
        "    model_batchnorm.add(Dense(100, activation = 'relu')) \n",
        "    model_batchnorm.add(Dense(50, activation = 'relu')) \n",
        "    model_batchnorm.add(Dense(num_classes, activation = 'softmax'))\n",
        "    # END CODE\n",
        "    \n",
        "    # compile model\n",
        "    sgd = keras.optimizers.SGD(lr = learning_rate)\n",
        "    model_batchnorm.compile(loss = keras.losses.categorical_crossentropy, \n",
        "                  optimizer = sgd, metrics=['accuracy'])\n",
        "    \n",
        "    return model_batchnorm\n",
        "\n",
        "model_batchnorm = batchnorm_classifier(learning_rate, dropout_strength)\n",
        "\n",
        "loss, acc = eval(model_batchnorm, verb = 0)\n",
        "print('\\n\\nTest loss:', loss)\n",
        "print('Test accuracy:', acc)"
      ],
      "execution_count": 0,
      "outputs": [
        {
          "output_type": "stream",
          "text": [
            "2205/2205 [==============================] - 0s 21us/step\n",
            "\n",
            "\n",
            "Test loss: 0.7960371896523196\n",
            "Test accuracy: 0.48344671189649846\n"
          ],
          "name": "stdout"
        }
      ]
    }
  ]
}